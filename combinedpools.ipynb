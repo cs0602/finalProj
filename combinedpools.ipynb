{
 "cells": [
  {
   "cell_type": "code",
   "execution_count": 4,
   "metadata": {},
   "outputs": [],
   "source": [
    "import pandas as pd\n",
    "import numpy as np\n",
    "%matplotlib inline\n",
    "import matplotlib.pyplot as plt\n",
    "import geopandas\n",
    "%matplotlib inline"
   ]
  },
  {
   "cell_type": "code",
   "execution_count": 5,
   "metadata": {},
   "outputs": [
    {
     "name": "stdout",
     "output_type": "stream",
     "text": [
      "# of pools:\n"
     ]
    },
    {
     "data": {
      "text/plain": [
       "neighborhood\n",
       "Allegheny Center            1\n",
       "Banksville                  1\n",
       "Bedford Dwellings           1\n",
       "Beechview                   1\n",
       "Beltzhoover                 1\n",
       "Bloomfield                  1\n",
       "Brighton Heights            1\n",
       "Brookline                   1\n",
       "Carrick                     1\n",
       "East Hills                  1\n",
       "Greenfield                  1\n",
       "Hazelwood                   1\n",
       "Highland Park               2\n",
       "Homewood South              1\n",
       "Lincoln Place               1\n",
       "Lincoln-Lemington-Belmar    1\n",
       "Mount Washington            1\n",
       "Perry North                 1\n",
       "Polish Hill                 1\n",
       "Shadyside                   1\n",
       "Sheraden                    1\n",
       "South Side Flats            2\n",
       "South Side Slopes           1\n",
       "Squirrel Hill South         1\n",
       "Troy Hill                   1\n",
       "Westwood                    1\n",
       "Name: id, dtype: int64"
      ]
     },
     "execution_count": 5,
     "metadata": {},
     "output_type": "execute_result"
    }
   ],
   "source": [
    "data = pd.read_csv(\"Pools.csv\")\n",
    "data.head()\n",
    "\n",
    "print(\"# of pools:\")\n",
    "poolnum = data.groupby(\"neighborhood\")['id'].count()\n",
    "#prints the number of pools in each neighborhood\n",
    "poolnum"
   ]
  },
  {
   "cell_type": "code",
   "execution_count": 6,
   "metadata": {},
   "outputs": [
    {
     "name": "stdout",
     "output_type": "stream",
     "text": [
      "# of each type of pool:\n"
     ]
    },
    {
     "data": {
      "text/plain": [
       "type\n",
       "Pool          20\n",
       "Spray Park     8\n",
       "Name: id, dtype: int64"
      ]
     },
     "execution_count": 6,
     "metadata": {},
     "output_type": "execute_result"
    }
   ],
   "source": [
    "print(\"# of each type of pool:\")\n",
    "numt = data.groupby(\"type\")['id'].count()\n",
    "numt"
   ]
  },
  {
   "cell_type": "code",
   "execution_count": 7,
   "metadata": {},
   "outputs": [
    {
     "data": {
      "text/plain": [
       "<matplotlib.axes._subplots.AxesSubplot at 0x7f5a64cab250>"
      ]
     },
     "execution_count": 7,
     "metadata": {},
     "output_type": "execute_result"
    },
    {
     "data": {
      "image/png": "[encoded data removed]",
      "text/plain": [
       "<Figure size 432x288 with 1 Axes>"
      ]
     },
     "metadata": {
      "needs_background": "light"
     },
     "output_type": "display_data"
    }
   ],
   "source": [
    "#graph to compare the number of neighboorhoods that have a type of pool\n",
    "data[\"type\"].value_counts().sort_index().plot(kind='bar', rot=0)"
   ]
  },
  {
   "cell_type": "code",
   "execution_count": 8,
   "metadata": {},
   "outputs": [
    {
     "name": "stdout",
     "output_type": "stream",
     "text": [
      "Number of each water source company:\n"
     ]
    },
    {
     "data": {
      "text/plain": [
       "water_source\n",
       "Pennsylvania American Water              8\n",
       "Pittsburgh Water and Sewer Authority    19\n",
       "Wilkinsburg Penn                         1\n",
       "Name: id, dtype: int64"
      ]
     },
     "execution_count": 8,
     "metadata": {},
     "output_type": "execute_result"
    }
   ],
   "source": [
    "print(\"Number of each water source company:\")\n",
    "source_type = data.groupby(\"water_source\")['id'].count()\n",
    "source_type"
   ]
  },
  {
   "cell_type": "code",
   "execution_count": 13,
   "metadata": {},
   "outputs": [
    {
     "data": {
      "text/plain": [
       "<matplotlib.axes._subplots.AxesSubplot at 0x7f5a63ecadc0>"
      ]
     },
     "execution_count": 13,
     "metadata": {},
     "output_type": "execute_result"
    },
    {
     "data": {
      "image/png": "[encoded data removed]",
      "text/plain": [
       "<Figure size 432x288 with 1 Axes>"
      ]
     },
     "metadata": {
      "needs_background": "light"
     },
     "output_type": "display_data"
    }
   ],
   "source": [
    "data[\"water_source\"].value_counts().sort_index().plot(kind='bar', rot=90\n",
    "                                                     )"
   ]
  },
  {
   "cell_type": "code",
   "execution_count": null,
   "metadata": {},
   "outputs": [],
   "source": []
  }
 ],
 "metadata": {
  "kernelspec": {
   "display_name": "Python 3",
   "language": "python",
   "name": "python3"
  },
  "language_info": {
   "codemirror_mode": {
    "name": "ipython",
    "version": 3
   },
   "file_extension": ".py",
   "mimetype": "text/x-python",
   "name": "python",
   "nbconvert_exporter": "python",
   "pygments_lexer": "ipython3",
   "version": "3.8.3"
  }
 },
 "nbformat": 4,
 "nbformat_minor": 4
}
